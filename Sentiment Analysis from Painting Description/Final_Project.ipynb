{
  "cells": [
    {
      "cell_type": "code",
      "execution_count": 2,
      "metadata": {
        "colab": {
          "base_uri": "https://localhost:8080/"
        },
        "id": "ZmZRhGBQprPT",
        "outputId": "09c583e0-9c4b-4812-893e-e882a0e45f2c"
      },
      "outputs": [
        {
          "output_type": "stream",
          "name": "stdout",
          "text": [
            "Drive already mounted at /content/drive; to attempt to forcibly remount, call drive.mount(\"/content/drive\", force_remount=True).\n"
          ]
        }
      ],
      "source": [
        "from google.colab import drive\n",
        "import math\n",
        "import torch\n",
        "import torch.nn as nn\n",
        "import torch.nn.functional as F\n",
        "from torchtext.data.utils import get_tokenizer\n",
        "import pandas as pd\n",
        "from torch.utils.data import Dataset, DataLoader\n",
        "from torchtext.vocab import build_vocab_from_iterator\n",
        "import numpy as np\n",
        "from sklearn.metrics import f1_score   \n",
        "\n",
        "\n",
        "drive.mount ('/content/drive')\n",
        "path = '/content/drive/MyDrive/Final Project/artemis_dataset_release_v0.csv'\n",
        "data_file = open(path)\n",
        "data_file = pd.read_csv(data_file)\n",
        "\n"
      ]
    },
    {
      "cell_type": "markdown",
      "metadata": {
        "id": "srJzAzhBHw63"
      },
      "source": [
        "# Dataset\n"
      ]
    },
    {
      "cell_type": "code",
      "execution_count": 3,
      "metadata": {
        "colab": {
          "base_uri": "https://localhost:8080/",
          "height": 346
        },
        "id": "W6dcNF-0yer4",
        "outputId": "de92db5c-b5e1-4655-9bf9-d6d15f649f4e"
      },
      "outputs": [
        {
          "output_type": "display_data",
          "data": {
            "text/plain": [
              "<Figure size 432x288 with 1 Axes>"
            ],
            "image/png": "[encoded data removed]"
          },
          "metadata": {
            "needs_background": "light"
          }
        }
      ],
      "source": [
        "#print(data_file)\n",
        "#print(data_file[\"utterance\"])\n",
        "import matplotlib.pyplot as plt\n",
        "\n",
        "class CustomTextDataset(Dataset):\n",
        "    def __init__(self, file):\n",
        "        self.labels = file['emotion']\n",
        "        self.text = file['utterance']\n",
        "    def __len__(self):\n",
        "        return len(self.labels)\n",
        "    def __getitem__(self, idx):\n",
        "        return self.text[idx], self.labels[idx]\n",
        "\n",
        "ax = data_file['emotion'].value_counts().plot(kind='bar')\n",
        "plt.xticks(rotation=(45))\n",
        "plt.title('Distribution')\n",
        "plt.xlabel('Emotion')\n",
        "plt.ylabel('Occurance')\n",
        "plt.plot()\n",
        "\n",
        "label_dict = {\n",
        "    \"fear\": 0, \n",
        "    \"sadness\": 1,\n",
        "    \"anger\": 2, \n",
        "    \"disgust\": 3, \n",
        "    \"contentment\":4, \n",
        "    \"awe\": 5, \n",
        "    \"something else\": 6,\n",
        "    \"amusement\": 7, \n",
        "    \"excitement\": 8\n",
        "}"
      ]
    },
    {
      "cell_type": "markdown",
      "metadata": {
        "id": "Of63AUWtDbh-"
      },
      "source": [
        "# Tokenize"
      ]
    },
    {
      "cell_type": "code",
      "execution_count": 4,
      "metadata": {
        "colab": {
          "base_uri": "https://localhost:8080/"
        },
        "id": "_EL96Kc_Dflc",
        "outputId": "d40f44a7-d459-4113-e94f-278c754cf0ac"
      },
      "outputs": [
        {
          "output_type": "stream",
          "name": "stdout",
          "text": [
            "len of train:  409216\n",
            "len of val:  45468\n",
            "409216\n"
          ]
        }
      ],
      "source": [
        "tokenizer = get_tokenizer('basic_english')\n",
        "#import nltk\n",
        "#from nltk.tokenize import sent_tokenize\n",
        "#nltk.download('punkt')\n",
        "\n",
        "val_frac = 0.1 \n",
        "val_split_idx = int(len(data_file)*val_frac) \n",
        "data_idx = list(range(len(data_file)))\n",
        "np.random.shuffle(data_idx)\n",
        "\n",
        "#get indexes for validation and train\n",
        "val_idx, train_idx = data_idx[:val_split_idx], data_idx[val_split_idx:]\n",
        "print('len of train: ', len(train_idx))\n",
        "print('len of val: ', len(val_idx))\n",
        "\n",
        "train = data_file.iloc[train_idx].reset_index().drop('index',axis=1)\n",
        "val = data_file.iloc[val_idx].reset_index().drop('index',axis=1)\n",
        "\n",
        "print(len(train))\n",
        "\n",
        "def yield_tokens(data_iter):\n",
        "    for text in data_iter:\n",
        "        yield tokenizer(text)\n",
        "\n",
        "def yield_tokens_label(data_iter):\n",
        "    for text in data_iter:\n",
        "      #yield sent_tokenize(text)\n",
        "      yield label_dict[text]\n",
        "\n",
        "vocab_text = build_vocab_from_iterator(yield_tokens(train[\"utterance\"]), specials=[\"<unk>\", \"<pad>\"])\n",
        "vocab_text.set_default_index(vocab_text[\"<unk>\"])\n",
        "\n",
        "#vocab_label = build_vocab_from_iterator(yield_tokens_label(train[\"emotion\"]), specials=[\"<unk>\"])\n",
        "#vocab_label.set_default_index(vocab_label[\"<unk>\"])\n"
      ]
    },
    {
      "cell_type": "code",
      "execution_count": 5,
      "metadata": {
        "colab": {
          "base_uri": "https://localhost:8080/"
        },
        "id": "I4LQEpNRPqzS",
        "outputId": "f59b6da6-8933-4c2b-f9ce-b900dcf74c01"
      },
      "outputs": [
        {
          "output_type": "stream",
          "name": "stdout",
          "text": [
            "1\n"
          ]
        }
      ],
      "source": [
        "text_pipeline = lambda x: vocab_text(tokenizer(x))\n",
        "label_pipeline = lambda x: vocab_label(sent_tokenize(x))\n",
        "\n",
        "PAD_TOKEN = vocab_text(tokenizer(\"<pad>\"))\n",
        "assert len(PAD_TOKEN) == 1\n",
        "PAD_TOKEN = PAD_TOKEN[0]\n",
        "print(PAD_TOKEN)"
      ]
    },
    {
      "cell_type": "markdown",
      "source": [
        "# Create Encoder Padding Mask"
      ],
      "metadata": {
        "id": "FOgX4Hl2R4tw"
      }
    },
    {
      "cell_type": "code",
      "source": [
        "def padding_mask(batch):\n",
        "  pad_token_id = 1\n",
        "  pad_mask = ~(batch != pad_token_id)\n",
        "  return pad_mask\n",
        "\n"
      ],
      "metadata": {
        "id": "5JGTyxa_R_AT"
      },
      "execution_count": 6,
      "outputs": []
    },
    {
      "cell_type": "markdown",
      "metadata": {
        "id": "JXvy5q6bOMOY"
      },
      "source": [
        "# Define Train and Evaluate "
      ]
    },
    {
      "cell_type": "code",
      "execution_count": 7,
      "metadata": {
        "id": "pIGKHr5hOPtP"
      },
      "outputs": [],
      "source": [
        "import time\n",
        "\n",
        "def train(model, dataloader, loss_func, device, grad_norm_clip, running_loss):\n",
        "    model.train()\n",
        "    total_acc, total_count = 0, 0\n",
        "    log_interval = 1000\n",
        "    start_time = time.time()\n",
        "\n",
        "    for idx, (text, label) in enumerate(dataloader):\n",
        "        label = label.to(device)\n",
        "        text = text.to(device)\n",
        "        optimizer.zero_grad()\n",
        "        \n",
        "        logits = None\n",
        "        mask = padding_mask(text)\n",
        "        logits = model(text, mask)\n",
        "        #print(logits.shape)\n",
        "        #print(label)\n",
        "        label = label.squeeze()\n",
        "        loss = loss_func(logits, label)\n",
        "        running_loss += loss.item() * text.size(0)\n",
        "        loss.backward()\n",
        "        \n",
        "        torch.nn.utils.clip_grad_norm_(model.parameters(), grad_norm_clip)\n",
        "        optimizer.step()\n",
        "        total_acc += (logits.argmax(1) == label).sum().item()\n",
        "        total_count += label.size(0)\n",
        "        if idx % log_interval == 0 and idx > 0:\n",
        "            elapsed = time.time() - start_time\n",
        "            print('| epoch {:3d} | {:5d}/{:5d} batches '\n",
        "                  '| accuracy score {:8.3f}'.format(epoch, idx, len(dataloader),\n",
        "                                              total_acc/total_count))\n",
        "            total_acc, total_count = 0, 0\n",
        "            start_time = time.time()\n",
        "\n",
        "    return running_loss\n",
        "\n",
        "def evaluate(model, dataloader, loss_func, device):\n",
        "    model.eval()\n",
        "    total_acc, total_count = 0, 0\n",
        "\n",
        "    with torch.no_grad():\n",
        "        for idx, (text, label) in enumerate(dataloader):\n",
        "            label = label.to(device)\n",
        "            text = text.to(device)\n",
        "            \n",
        "            logits = model(text)\n",
        "            f1score_average = f1_score(label.cpu().data, logits.cpu().data.argmax(1), average = 'micro')\n",
        "            total_acc += (logits.argmax(1) == label).sum().item()\n",
        "            total_count += label.size(0)\n",
        "    return total_acc/total_count, f1score_average"
      ]
    },
    {
      "cell_type": "markdown",
      "metadata": {
        "id": "R5Q6SAUHTIOO"
      },
      "source": [
        "# Batch Collection\n"
      ]
    },
    {
      "cell_type": "code",
      "execution_count": 8,
      "metadata": {
        "id": "KkEvgt_JTM3-"
      },
      "outputs": [],
      "source": [
        "from torch.nn.utils.rnn import pad_sequence\n",
        "\n",
        "def collate_batch(batch):\n",
        "    label_list, text_list, text_len_list = [], [], []\n",
        "    for (text) in batch:\n",
        "        #label_list.append(label_pipeline(text[1]))\n",
        "        label_list.append(label_dict[text[1]])\n",
        "        processed_text = torch.tensor(text_pipeline(text[0]))\n",
        "        text_list.append(processed_text)\n",
        "        text_len_list.append(processed_text.size(0))\n",
        "    batched_label, batched_text = None, None\n",
        "\n",
        "    label_list = torch.tensor(label_list)\n",
        "    #text_list = torch.tensor(text_list)\n",
        "    #print(text_list)\n",
        "    #print(label_list)\n",
        "\n",
        "    batched_text = pad_sequence(text_list, batch_first=True, padding_value=1)\n",
        "    batched_label = label_list\n",
        "    \n",
        "    return batched_text.long(), batched_label.long()\n"
      ]
    },
    {
      "cell_type": "markdown",
      "metadata": {
        "id": "OeHUUZSGCROn"
      },
      "source": [
        "# FeedfowardCell"
      ]
    },
    {
      "cell_type": "code",
      "execution_count": 9,
      "metadata": {
        "id": "w8pI0FvkCX0u"
      },
      "outputs": [],
      "source": [
        "class FeedForwardNetwork(nn.Module):\n",
        "\n",
        "    def __init__(self, input_dim, ff_dim, dropout):\n",
        "\n",
        "        super(FeedForwardNetwork, self).__init__()\n",
        "        \n",
        "        self.linear_layer_1 = nn.Linear(input_dim, ff_dim)\n",
        "        self.activation_layer = nn.LeakyReLU()\n",
        "        self.dropout_layer = nn.Dropout(p = dropout)\n",
        "        self.linear_layer_2 = nn.Linear(ff_dim, input_dim)\n",
        "\n",
        "        \n",
        "    def forward(self, x: torch.Tensor):\n",
        "        \n",
        "        y = None\n",
        "\n",
        "        output1 = self.linear_layer_1(x)\n",
        "        output2 = self.activation_layer(output1)\n",
        "        output3 = self.dropout_layer(output2)\n",
        "        y = self.linear_layer_2(output3)\n",
        "        \n",
        "        return y"
      ]
    },
    {
      "cell_type": "markdown",
      "metadata": {
        "id": "yhIT1UsC54gA"
      },
      "source": [
        "# Positional Encoder"
      ]
    },
    {
      "cell_type": "code",
      "execution_count": 10,
      "metadata": {
        "id": "b60yvkCp59z4"
      },
      "outputs": [],
      "source": [
        "class PositionalEncoding(nn.Module):\n",
        "\n",
        "    def __init__(self, d_model, dropout=0.0, max_len=5000):\n",
        "        super(PositionalEncoding, self).__init__()\n",
        "        self.dropout = nn.Dropout(p=dropout)\n",
        "\n",
        "        pe = torch.zeros(max_len, d_model)\n",
        "        position = torch.arange(0, max_len, dtype=torch.float).unsqueeze(1)\n",
        "        div_term = torch.exp(torch.arange(0, d_model, 2).float() * (-math.log(10000.0) / d_model))\n",
        "        pe[:, 0::2] = torch.sin(position * div_term)\n",
        "        pe[:, 1::2] = torch.cos(position * div_term)\n",
        "        pe = pe.unsqueeze(0).transpose(0, 1)\n",
        "        self.register_buffer('pe', pe)\n",
        "\n",
        "    def forward(self, x):\n",
        "        x = x + self.pe[:x.size(0), :]\n",
        "        return self.dropout(x)"
      ]
    },
    {
      "cell_type": "markdown",
      "metadata": {
        "id": "xTST7v849pf5"
      },
      "source": [
        "# Vanila BERT block"
      ]
    },
    {
      "cell_type": "code",
      "execution_count": 11,
      "metadata": {
        "id": "GqUxI5Ca9xUx"
      },
      "outputs": [],
      "source": [
        "class TransformerCell(nn.Module):\n",
        "\n",
        "    def __init__(self, input_dim: int, num_heads: int, ff_dim: int, dropout: float):\n",
        "\n",
        "        super(TransformerCell, self).__init__()\n",
        "        \n",
        "        self.multi_attention = nn.MultiheadAttention(input_dim, num_heads, batch_first=True)\n",
        "        self.dropout_layer_1 = nn.Dropout(dropout)\n",
        "        self.batchnorm_layer_1 = nn.LayerNorm(input_dim)\n",
        "\n",
        "        self.feedfoward_layer = FeedForwardNetwork(input_dim, ff_dim, dropout)\n",
        "        self.dropout_layer_2 = nn.Dropout(dropout)\n",
        "        self.batchnorm_layer_2 = nn.LayerNorm(input_dim)\n",
        "        \n",
        "    def forward(self, x: torch.Tensor, mask: torch.Tensor=None):\n",
        "        \n",
        "        y = None\n",
        "\n",
        "        output1, attn_output_weights = self.multi_attention(x, x, x, mask)\n",
        "        output2 = self.dropout_layer_1(output1)\n",
        "        output3 = self.batchnorm_layer_1(x + output2)\n",
        "\n",
        "        output4 = self.feedfoward_layer(output3)\n",
        "        output5 = self.dropout_layer_2(output4)\n",
        "        y = self.batchnorm_layer_2(output5 + output3)\n",
        "        \n",
        "        return y"
      ]
    },
    {
      "cell_type": "markdown",
      "metadata": {
        "id": "Eoc3Y_l233mc"
      },
      "source": [
        "# Baseline BERT Transformer Model"
      ]
    },
    {
      "cell_type": "code",
      "execution_count": 12,
      "metadata": {
        "id": "odN8nVwH360B"
      },
      "outputs": [],
      "source": [
        "class TransformerBaseline(nn.Module):\n",
        "    \"\"\"\n",
        "    A Transformer-based text classifier.\n",
        "    \"\"\"\n",
        "    def __init__(self, \n",
        "            vocab_size: int, embed_dim: int, num_heads: int, trx_ff_dim: int, \n",
        "            num_trx_cells: int, num_class: int, dropout: float=0.1, pad_token: int=1\n",
        "        ):\n",
        "        super(TransformerBaseline, self).__init__()\n",
        "        \n",
        "        self.embed_dim = embed_dim\n",
        "        \n",
        "        self.embedding = nn.Embedding(vocab_size, embed_dim, padding_idx=pad_token)\n",
        "        self.positional_layer = PositionalEncoding(embed_dim)\n",
        "        self.transform_layer = nn.ModuleList(TransformerCell(embed_dim, num_heads, trx_ff_dim, dropout) for i in range(num_trx_cells))\n",
        "        self.output_layer = nn.Linear(embed_dim, num_class)\n",
        "\n",
        "    def forward(self, text, mask=None):\n",
        "        embedded = self.embedding(text) * math.sqrt(self.embed_dim)\n",
        "\n",
        "        logits = None\n",
        "        positional = self.positional_layer(embedded)\n",
        "        for num, i in enumerate(self.transform_layer):\n",
        "          positional = i(positional, mask)\n",
        "        attention_output = torch.mean(positional, 1)\n",
        "        logits = self.output_layer(attention_output)\n",
        "        \n",
        "        return logits"
      ]
    },
    {
      "cell_type": "markdown",
      "metadata": {
        "id": "yIX2KWGLGXT5"
      },
      "source": [
        "# Training Baseline Model"
      ]
    },
    {
      "cell_type": "code",
      "execution_count": 13,
      "metadata": {
        "colab": {
          "base_uri": "https://localhost:8080/",
          "height": 1000
        },
        "id": "hxfymgyVGbR5",
        "outputId": "195d8af0-1de5-4f54-b81b-2ba657dd553a"
      },
      "outputs": [
        {
          "output_type": "stream",
          "name": "stdout",
          "text": [
            "cuda\n",
            "53723\n",
            "409216\n",
            "| epoch   1 |  1000/ 6394 batches | accuracy score    0.422\n",
            "| epoch   1 |  2000/ 6394 batches | accuracy score    0.513\n",
            "| epoch   1 |  3000/ 6394 batches | accuracy score    0.533\n",
            "| epoch   1 |  4000/ 6394 batches | accuracy score    0.540\n",
            "| epoch   1 |  5000/ 6394 batches | accuracy score    0.552\n",
            "| epoch   1 |  6000/ 6394 batches | accuracy score    0.560\n",
            "-----------------------------------------------------------\n",
            "| end of epoch   1 | time: 118.21s | valid accuracy    0.517 | f1 score    0.679\n",
            "-----------------------------------------------------------\n",
            "| epoch   2 |  1000/ 6394 batches | accuracy score    0.582\n",
            "| epoch   2 |  2000/ 6394 batches | accuracy score    0.579\n",
            "| epoch   2 |  3000/ 6394 batches | accuracy score    0.578\n",
            "| epoch   2 |  4000/ 6394 batches | accuracy score    0.580\n",
            "| epoch   2 |  5000/ 6394 batches | accuracy score    0.584\n",
            "| epoch   2 |  6000/ 6394 batches | accuracy score    0.588\n",
            "-----------------------------------------------------------\n",
            "| end of epoch   2 | time: 117.31s | valid accuracy    0.548 | f1 score    0.500\n",
            "-----------------------------------------------------------\n",
            "| epoch   3 |  1000/ 6394 batches | accuracy score    0.601\n",
            "| epoch   3 |  2000/ 6394 batches | accuracy score    0.605\n",
            "| epoch   3 |  3000/ 6394 batches | accuracy score    0.604\n",
            "| epoch   3 |  4000/ 6394 batches | accuracy score    0.602\n",
            "| epoch   3 |  5000/ 6394 batches | accuracy score    0.605\n",
            "| epoch   3 |  6000/ 6394 batches | accuracy score    0.601\n",
            "-----------------------------------------------------------\n",
            "| end of epoch   3 | time: 117.00s | valid accuracy    0.559 | f1 score    0.571\n",
            "-----------------------------------------------------------\n",
            "| epoch   4 |  1000/ 6394 batches | accuracy score    0.619\n",
            "| epoch   4 |  2000/ 6394 batches | accuracy score    0.622\n",
            "| epoch   4 |  3000/ 6394 batches | accuracy score    0.620\n",
            "| epoch   4 |  4000/ 6394 batches | accuracy score    0.614\n",
            "| epoch   4 |  5000/ 6394 batches | accuracy score    0.620\n",
            "| epoch   4 |  6000/ 6394 batches | accuracy score    0.616\n",
            "-----------------------------------------------------------\n",
            "| end of epoch   4 | time: 116.72s | valid accuracy    0.558 | f1 score    0.607\n",
            "-----------------------------------------------------------\n",
            "| epoch   5 |  1000/ 6394 batches | accuracy score    0.639\n",
            "| epoch   5 |  2000/ 6394 batches | accuracy score    0.634\n",
            "| epoch   5 |  3000/ 6394 batches | accuracy score    0.633\n",
            "| epoch   5 |  4000/ 6394 batches | accuracy score    0.627\n",
            "| epoch   5 |  5000/ 6394 batches | accuracy score    0.628\n",
            "| epoch   5 |  6000/ 6394 batches | accuracy score    0.630\n",
            "-----------------------------------------------------------\n",
            "| end of epoch   5 | time: 116.86s | valid accuracy    0.570 | f1 score    0.607\n",
            "-----------------------------------------------------------\n",
            "| epoch   6 |  1000/ 6394 batches | accuracy score    0.650\n",
            "| epoch   6 |  2000/ 6394 batches | accuracy score    0.644\n",
            "| epoch   6 |  3000/ 6394 batches | accuracy score    0.641\n",
            "| epoch   6 |  4000/ 6394 batches | accuracy score    0.639\n",
            "| epoch   6 |  5000/ 6394 batches | accuracy score    0.641\n",
            "| epoch   6 |  6000/ 6394 batches | accuracy score    0.640\n",
            "-----------------------------------------------------------\n",
            "| end of epoch   6 | time: 116.91s | valid accuracy    0.566 | f1 score    0.571\n",
            "-----------------------------------------------------------\n",
            "| epoch   7 |  1000/ 6394 batches | accuracy score    0.663\n",
            "| epoch   7 |  2000/ 6394 batches | accuracy score    0.659\n",
            "| epoch   7 |  3000/ 6394 batches | accuracy score    0.653\n",
            "| epoch   7 |  4000/ 6394 batches | accuracy score    0.655\n",
            "| epoch   7 |  5000/ 6394 batches | accuracy score    0.654\n",
            "| epoch   7 |  6000/ 6394 batches | accuracy score    0.649\n",
            "-----------------------------------------------------------\n",
            "| end of epoch   7 | time: 115.35s | valid accuracy    0.566 | f1 score    0.607\n",
            "-----------------------------------------------------------\n",
            "| epoch   8 |  1000/ 6394 batches | accuracy score    0.676\n",
            "| epoch   8 |  2000/ 6394 batches | accuracy score    0.674\n",
            "| epoch   8 |  3000/ 6394 batches | accuracy score    0.671\n",
            "| epoch   8 |  4000/ 6394 batches | accuracy score    0.663\n",
            "| epoch   8 |  5000/ 6394 batches | accuracy score    0.666\n",
            "| epoch   8 |  6000/ 6394 batches | accuracy score    0.663\n",
            "-----------------------------------------------------------\n",
            "| end of epoch   8 | time: 115.24s | valid accuracy    0.571 | f1 score    0.536\n",
            "-----------------------------------------------------------\n",
            "| epoch   9 |  1000/ 6394 batches | accuracy score    0.690\n",
            "| epoch   9 |  2000/ 6394 batches | accuracy score    0.684\n",
            "| epoch   9 |  3000/ 6394 batches | accuracy score    0.680\n",
            "| epoch   9 |  4000/ 6394 batches | accuracy score    0.677\n",
            "| epoch   9 |  5000/ 6394 batches | accuracy score    0.670\n",
            "| epoch   9 |  6000/ 6394 batches | accuracy score    0.675\n",
            "-----------------------------------------------------------\n",
            "| end of epoch   9 | time: 115.35s | valid accuracy    0.567 | f1 score    0.536\n",
            "-----------------------------------------------------------\n",
            "| epoch  10 |  1000/ 6394 batches | accuracy score    0.699\n",
            "| epoch  10 |  2000/ 6394 batches | accuracy score    0.701\n",
            "| epoch  10 |  3000/ 6394 batches | accuracy score    0.699\n",
            "| epoch  10 |  4000/ 6394 batches | accuracy score    0.697\n",
            "| epoch  10 |  5000/ 6394 batches | accuracy score    0.690\n",
            "| epoch  10 |  6000/ 6394 batches | accuracy score    0.688\n",
            "-----------------------------------------------------------\n",
            "| end of epoch  10 | time: 115.27s | valid accuracy    0.564 | f1 score    0.643\n",
            "-----------------------------------------------------------\n",
            "[1.3593056065834124, 1.1951254293774678, 1.1372049599280012, 1.0938186407051946, 1.0561111118035051, 1.02499746032756, 0.9890739785290003, 0.9488797906435464, 0.9188807864449418, 0.8759558535820997]\n"
          ]
        },
        {
          "output_type": "execute_result",
          "data": {
            "text/plain": [
              "[<matplotlib.lines.Line2D at 0x7f4912056fd0>]"
            ]
          },
          "metadata": {},
          "execution_count": 13
        },
        {
          "output_type": "display_data",
          "data": {
            "text/plain": [
              "<Figure size 432x288 with 1 Axes>"
            ],
            "image/png": "[encoded data removed]"
          },
          "metadata": {
            "needs_background": "light"
          }
        }
      ],
      "source": [
        "import time\n",
        "#assert torch.cuda.is_available()\n",
        "# device = 'cuda'\n",
        "device = torch.device(\"cuda\" if torch.cuda.is_available() else \"cpu\")\n",
        "print(device)\n",
        "\n",
        "epochs = 10\n",
        "lr = 0.0005  \n",
        "batch_size = 64\n",
        "\n",
        "val_frac = 0.1 \n",
        "val_split_idx = int(len(data_file)*val_frac) \n",
        "data_idx = list(range(len(data_file)))\n",
        "np.random.shuffle(data_idx)\n",
        "\n",
        "val_idx, train_idx = data_idx[:val_split_idx], data_idx[val_split_idx:]\n",
        "\n",
        "train_iter = data_file.iloc[train_idx].reset_index().drop('index',axis=1)\n",
        "validate_iter = data_file.iloc[val_idx].reset_index().drop('index',axis=1)\n",
        "\n",
        "\n",
        "train_iter = CustomTextDataset(train_iter)\n",
        "validate_iter = CustomTextDataset(validate_iter)\n",
        "\n",
        "train_dataloader = DataLoader(\n",
        "    train_iter, batch_size=batch_size,\n",
        "    shuffle=True, collate_fn=collate_batch\n",
        ")\n",
        "\n",
        "valid_dataloader = DataLoader(\n",
        "    validate_iter, batch_size=batch_size, \n",
        "    shuffle=False, collate_fn=collate_batch\n",
        ")\n",
        "\n",
        "\n",
        "num_class = 9\n",
        "vocab_size = len(vocab_text)\n",
        "print(vocab_size)\n",
        "emsize = 120\n",
        "\n",
        "num_heads = 8\n",
        "num_trx_cells = 4\n",
        "\n",
        "print(len(train_iter))\n",
        "\n",
        "gradient_norm_clip = 1\n",
        "\n",
        "model1 = TransformerBaseline(vocab_size, emsize, num_heads, 28, num_trx_cells, num_class)\n",
        "loss_func = nn.functional.cross_entropy\n",
        "model1 = model1.to(device)\n",
        "\n",
        "optimizer = torch.optim.AdamW(model1.parameters(), lr=lr)\n",
        "scheduler = torch.optim.lr_scheduler.CosineAnnealingLR(optimizer, epochs, 1e-8)\n",
        "total_accu = None\n",
        "loss_value = []\n",
        "epoches = []\n",
        "\n",
        "for epoch in range(1, epochs + 1):\n",
        "    epoch_start_time = time.time()\n",
        "    running_loss = 0\n",
        "    running_loss = train(model1, train_dataloader, loss_func, device, gradient_norm_clip, running_loss)\n",
        "    accu_val, f1score = evaluate(model1, valid_dataloader, loss_func, device)\n",
        "    loss_value.append(running_loss / len(train_iter))\n",
        "    epoches.append(epoch)\n",
        "    if total_accu is not None and total_accu > accu_val:\n",
        "        scheduler.step()\n",
        "    else:\n",
        "        total_accu = accu_val\n",
        "    print('-' * 59)\n",
        "    print('| end of epoch {:3d} | time: {:5.2f}s | '\n",
        "          'valid accuracy {:8.3f} | f1 score {:8.3f}'.format(epoch,\n",
        "                                           time.time() - epoch_start_time,\n",
        "                                           accu_val, f1score))\n",
        "    print('-' * 59)\n",
        "print(loss_value)\n",
        "plt.title('Loss Graph')\n",
        "plt.xlabel('Epoch')\n",
        "plt.ylabel('Loss')\n",
        "plt.plot(epoches, loss_value)"
      ]
    },
    {
      "cell_type": "markdown",
      "source": [
        "# BERT + LSTM Block"
      ],
      "metadata": {
        "id": "5rDp80QZ4REk"
      }
    },
    {
      "cell_type": "code",
      "source": [
        "class TransformerLSTMCell(nn.Module):\n",
        "\n",
        "    def __init__(self, input_dim: int, num_heads: int, ff_dim: int, dropout: float):\n",
        "\n",
        "        super(TransformerLSTMCell, self).__init__()\n",
        "        \n",
        "        self.lstm = nn.LSTM(input_dim, input_dim, batch_first=True, dropout = dropout, bidirectional=True)\n",
        "        self.feedfoward_layer_lstm = FeedForwardNetwork(input_dim, ff_dim, dropout)\n",
        "\n",
        "        self.multi_attention = nn.MultiheadAttention(input_dim, num_heads, batch_first=True)\n",
        "        self.dropout_layer_1 = nn.Dropout(dropout)\n",
        "        self.batchnorm_layer_1 = nn.LayerNorm(input_dim)\n",
        "\n",
        "        self.feedfoward_layer_multi = FeedForwardNetwork(input_dim, ff_dim, dropout)\n",
        "        self.dropout_layer_2 = nn.Dropout(dropout)\n",
        "        self.batchnorm_layer_2 = nn.LayerNorm(input_dim)\n",
        "\n",
        "        \n",
        "    def forward(self, x: torch.Tensor, mask: torch.Tensor=None):\n",
        "        \n",
        "        y = None\n",
        "        #print(x.shape)\n",
        "\n",
        "        output1, attn_output_weights = self.multi_attention(x, x, x, mask)\n",
        "        output2 = self.dropout_layer_1(output1)\n",
        "        output3 = self.batchnorm_layer_1(x + output2)\n",
        "\n",
        "        output, (ht, ct) = self.lstm(x)\n",
        "        #print(x.shape[-1])\n",
        "        output = output[:, :, :x.shape[-1]] + output[:, :, x.shape[-1]:]\n",
        "        output = output/2.0\n",
        "        #print(output.shape)\n",
        "        output6 = self.feedfoward_layer_lstm(output)\n",
        "        #print(output6.shape)\n",
        "\n",
        "        #print(output3.shape)\n",
        "        output4 = self.feedfoward_layer_multi(output3)\n",
        "        output5 = self.dropout_layer_2(output4)\n",
        "        #print(output5.shape)\n",
        "        y = self.batchnorm_layer_2(output5 + (output3 + output6))\n",
        "        \n",
        "        return y"
      ],
      "metadata": {
        "id": "P3DlAtkN7TtZ"
      },
      "execution_count": 14,
      "outputs": []
    },
    {
      "cell_type": "markdown",
      "source": [
        "# BERT + BILSTM MODEL"
      ],
      "metadata": {
        "id": "GB0hX-YdBYf-"
      }
    },
    {
      "cell_type": "code",
      "source": [
        "class TransformerLSTM(nn.Module):\n",
        "    \"\"\"\n",
        "    A Transformer-based text classifier.\n",
        "    \"\"\"\n",
        "    def __init__(self, \n",
        "            vocab_size: int, embed_dim: int, num_heads: int, trx_ff_dim: int, \n",
        "            num_trx_cells: int, num_class: int, dropout: float=0.1, pad_token: int=1\n",
        "        ):\n",
        "        super(TransformerLSTM, self).__init__()\n",
        "        \n",
        "        self.embed_dim = embed_dim\n",
        "        \n",
        "        self.embedding = nn.Embedding(vocab_size, embed_dim, padding_idx=pad_token)\n",
        "        self.positional_layer = PositionalEncoding(embed_dim)\n",
        "        self.transform_layer = nn.ModuleList(TransformerLSTMCell(embed_dim, num_heads, trx_ff_dim, dropout) for i in range(num_trx_cells))\n",
        "        self.output_layer = nn.Linear(embed_dim, num_class)\n",
        "\n",
        "    def forward(self, text, mask=None):\n",
        "        embedded = self.embedding(text) * math.sqrt(self.embed_dim)\n",
        "\n",
        "        logits = None\n",
        "        positional = self.positional_layer(embedded)\n",
        "        for num, i in enumerate(self.transform_layer):\n",
        "          positional = i(positional, mask)\n",
        "        attention_output = torch.mean(positional, 1)\n",
        "        logits = self.output_layer(attention_output)\n",
        "        \n",
        "        return logits"
      ],
      "metadata": {
        "id": "2H2KGiKoBeeA"
      },
      "execution_count": 15,
      "outputs": []
    },
    {
      "cell_type": "markdown",
      "source": [
        "# Traning BERT + LSTM Model"
      ],
      "metadata": {
        "id": "d5jZ9ffcBrAv"
      }
    },
    {
      "cell_type": "code",
      "source": [
        "import time\n",
        "#assert torch.cuda.is_available()\n",
        "# device = 'cuda'\n",
        "device = torch.device(\"cuda\" if torch.cuda.is_available() else \"cpu\")\n",
        "print(device)\n",
        "\n",
        "epochs = 10\n",
        "lr = 0.0005  \n",
        "batch_size = 64\n",
        "\n",
        "val_frac = 0.1 \n",
        "val_split_idx = int(len(data_file)*val_frac) \n",
        "data_idx = list(range(len(data_file)))\n",
        "np.random.shuffle(data_idx)\n",
        "\n",
        "val_idx, train_idx = data_idx[:val_split_idx], data_idx[val_split_idx:]\n",
        "\n",
        "train_iter = data_file.iloc[train_idx].reset_index().drop('index',axis=1)\n",
        "validate_iter = data_file.iloc[val_idx].reset_index().drop('index',axis=1)\n",
        "\n",
        "\n",
        "train_iter = CustomTextDataset(train_iter)\n",
        "validate_iter = CustomTextDataset(validate_iter)\n",
        "\n",
        "train_dataloader = DataLoader(\n",
        "    train_iter, batch_size=batch_size,\n",
        "    shuffle=True, collate_fn=collate_batch\n",
        ")\n",
        "\n",
        "valid_dataloader = DataLoader(\n",
        "    validate_iter, batch_size=batch_size, \n",
        "    shuffle=False, collate_fn=collate_batch\n",
        ")\n",
        "\n",
        "\n",
        "num_class = 9\n",
        "vocab_size = len(vocab_text)\n",
        "print(vocab_size)\n",
        "emsize = 120\n",
        "\n",
        "num_heads = 8\n",
        "num_trx_cells = 4\n",
        "\n",
        "print(len(train_iter))\n",
        "\n",
        "gradient_norm_clip = 1\n",
        "\n",
        "model = TransformerLSTM(vocab_size, emsize, num_heads, 28, num_trx_cells, num_class)\n",
        "loss_func = nn.functional.cross_entropy\n",
        "model = model.to(device)\n",
        "\n",
        "optimizer = torch.optim.AdamW(model.parameters(), lr=lr)\n",
        "scheduler = torch.optim.lr_scheduler.CosineAnnealingLR(optimizer, epochs, 1e-8)\n",
        "total_accu = None\n",
        "loss_value_lstm = []\n",
        "epoches = []\n",
        "\n",
        "for epoch in range(1, epochs + 1):\n",
        "    epoch_start_time = time.time()\n",
        "    running_loss = 0\n",
        "    running_loss = train(model, train_dataloader, loss_func, device, gradient_norm_clip, running_loss)\n",
        "    accu_val2, f1score2 = evaluate(model, valid_dataloader, loss_func, device)\n",
        "    loss_value_lstm.append(running_loss / len(train_iter))\n",
        "    epoches.append(epoch)\n",
        "    if total_accu is not None and total_accu > accu_val:\n",
        "        scheduler.step()\n",
        "    else:\n",
        "        total_accu = accu_val\n",
        "    print('-' * 59)\n",
        "    print('| end of epoch {:3d} | time: {:5.2f}s | '\n",
        "          'valid accuracy {:8.3f} | f1 score {:8.3f}'.format(epoch,\n",
        "                                           time.time() - epoch_start_time,\n",
        "                                           accu_val2, f1score2))\n",
        "    print('-' * 59)\n",
        "print(loss_value_lstm)\n",
        "plt.title('Loss Graph')\n",
        "plt.xlabel('Epoch')\n",
        "plt.ylabel('Loss')\n",
        "plt.plot(epoches, loss_value_lstm)\n",
        "\n"
      ],
      "metadata": {
        "colab": {
          "base_uri": "https://localhost:8080/",
          "height": 1000
        },
        "id": "fvy03hJ0By_X",
        "outputId": "7673a6cb-c459-4365-9366-83bf6f02de6f"
      },
      "execution_count": 16,
      "outputs": [
        {
          "output_type": "stream",
          "name": "stdout",
          "text": [
            "cuda\n",
            "53723\n",
            "409216\n"
          ]
        },
        {
          "output_type": "stream",
          "name": "stderr",
          "text": [
            "/usr/local/lib/python3.7/dist-packages/torch/nn/modules/rnn.py:65: UserWarning: dropout option adds dropout after all but last recurrent layer, so non-zero dropout expects num_layers greater than 1, but got dropout=0.1 and num_layers=1\n",
            "  \"num_layers={}\".format(dropout, num_layers))\n"
          ]
        },
        {
          "output_type": "stream",
          "name": "stdout",
          "text": [
            "| epoch   1 |  1000/ 6394 batches | accuracy score    0.451\n",
            "| epoch   1 |  2000/ 6394 batches | accuracy score    0.543\n",
            "| epoch   1 |  3000/ 6394 batches | accuracy score    0.566\n",
            "| epoch   1 |  4000/ 6394 batches | accuracy score    0.581\n",
            "| epoch   1 |  5000/ 6394 batches | accuracy score    0.588\n",
            "| epoch   1 |  6000/ 6394 batches | accuracy score    0.593\n",
            "-----------------------------------------------------------\n",
            "| end of epoch   1 | time: 302.84s | valid accuracy    0.426 | f1 score    0.393\n",
            "-----------------------------------------------------------\n",
            "| epoch   2 |  1000/ 6394 batches | accuracy score    0.617\n",
            "| epoch   2 |  2000/ 6394 batches | accuracy score    0.612\n",
            "| epoch   2 |  3000/ 6394 batches | accuracy score    0.610\n",
            "| epoch   2 |  4000/ 6394 batches | accuracy score    0.615\n",
            "| epoch   2 |  5000/ 6394 batches | accuracy score    0.615\n",
            "| epoch   2 |  6000/ 6394 batches | accuracy score    0.615\n",
            "-----------------------------------------------------------\n",
            "| end of epoch   2 | time: 302.47s | valid accuracy    0.428 | f1 score    0.429\n",
            "-----------------------------------------------------------\n",
            "| epoch   3 |  1000/ 6394 batches | accuracy score    0.638\n",
            "| epoch   3 |  2000/ 6394 batches | accuracy score    0.633\n",
            "| epoch   3 |  3000/ 6394 batches | accuracy score    0.632\n",
            "| epoch   3 |  4000/ 6394 batches | accuracy score    0.630\n",
            "| epoch   3 |  5000/ 6394 batches | accuracy score    0.632\n",
            "| epoch   3 |  6000/ 6394 batches | accuracy score    0.628\n",
            "-----------------------------------------------------------\n",
            "| end of epoch   3 | time: 302.89s | valid accuracy    0.403 | f1 score    0.357\n",
            "-----------------------------------------------------------\n",
            "| epoch   4 |  1000/ 6394 batches | accuracy score    0.653\n",
            "| epoch   4 |  2000/ 6394 batches | accuracy score    0.647\n",
            "| epoch   4 |  3000/ 6394 batches | accuracy score    0.648\n",
            "| epoch   4 |  4000/ 6394 batches | accuracy score    0.641\n",
            "| epoch   4 |  5000/ 6394 batches | accuracy score    0.644\n",
            "| epoch   4 |  6000/ 6394 batches | accuracy score    0.641\n",
            "-----------------------------------------------------------\n",
            "| end of epoch   4 | time: 303.51s | valid accuracy    0.407 | f1 score    0.357\n",
            "-----------------------------------------------------------\n",
            "| epoch   5 |  1000/ 6394 batches | accuracy score    0.667\n",
            "| epoch   5 |  2000/ 6394 batches | accuracy score    0.662\n",
            "| epoch   5 |  3000/ 6394 batches | accuracy score    0.658\n",
            "| epoch   5 |  4000/ 6394 batches | accuracy score    0.654\n",
            "| epoch   5 |  5000/ 6394 batches | accuracy score    0.651\n",
            "| epoch   5 |  6000/ 6394 batches | accuracy score    0.652\n",
            "-----------------------------------------------------------\n",
            "| end of epoch   5 | time: 308.00s | valid accuracy    0.421 | f1 score    0.393\n",
            "-----------------------------------------------------------\n",
            "| epoch   6 |  1000/ 6394 batches | accuracy score    0.678\n",
            "| epoch   6 |  2000/ 6394 batches | accuracy score    0.673\n",
            "| epoch   6 |  3000/ 6394 batches | accuracy score    0.669\n",
            "| epoch   6 |  4000/ 6394 batches | accuracy score    0.663\n",
            "| epoch   6 |  5000/ 6394 batches | accuracy score    0.661\n",
            "| epoch   6 |  6000/ 6394 batches | accuracy score    0.662\n",
            "-----------------------------------------------------------\n",
            "| end of epoch   6 | time: 304.11s | valid accuracy    0.435 | f1 score    0.357\n",
            "-----------------------------------------------------------\n",
            "| epoch   7 |  1000/ 6394 batches | accuracy score    0.692\n",
            "| epoch   7 |  2000/ 6394 batches | accuracy score    0.682\n",
            "| epoch   7 |  3000/ 6394 batches | accuracy score    0.680\n",
            "| epoch   7 |  4000/ 6394 batches | accuracy score    0.674\n",
            "| epoch   7 |  5000/ 6394 batches | accuracy score    0.675\n",
            "| epoch   7 |  6000/ 6394 batches | accuracy score    0.669\n",
            "-----------------------------------------------------------\n",
            "| end of epoch   7 | time: 302.81s | valid accuracy    0.421 | f1 score    0.429\n",
            "-----------------------------------------------------------\n",
            "| epoch   8 |  1000/ 6394 batches | accuracy score    0.710\n",
            "| epoch   8 |  2000/ 6394 batches | accuracy score    0.689\n",
            "| epoch   8 |  3000/ 6394 batches | accuracy score    0.690\n",
            "| epoch   8 |  4000/ 6394 batches | accuracy score    0.687\n",
            "| epoch   8 |  5000/ 6394 batches | accuracy score    0.678\n",
            "| epoch   8 |  6000/ 6394 batches | accuracy score    0.684\n",
            "-----------------------------------------------------------\n",
            "| end of epoch   8 | time: 302.64s | valid accuracy    0.414 | f1 score    0.393\n",
            "-----------------------------------------------------------\n",
            "| epoch   9 |  1000/ 6394 batches | accuracy score    0.714\n",
            "| epoch   9 |  2000/ 6394 batches | accuracy score    0.708\n",
            "| epoch   9 |  3000/ 6394 batches | accuracy score    0.702\n",
            "| epoch   9 |  4000/ 6394 batches | accuracy score    0.698\n",
            "| epoch   9 |  5000/ 6394 batches | accuracy score    0.692\n",
            "| epoch   9 |  6000/ 6394 batches | accuracy score    0.693\n",
            "-----------------------------------------------------------\n",
            "| end of epoch   9 | time: 302.47s | valid accuracy    0.421 | f1 score    0.357\n",
            "-----------------------------------------------------------\n",
            "| epoch  10 |  1000/ 6394 batches | accuracy score    0.726\n",
            "| epoch  10 |  2000/ 6394 batches | accuracy score    0.718\n",
            "| epoch  10 |  3000/ 6394 batches | accuracy score    0.711\n",
            "| epoch  10 |  4000/ 6394 batches | accuracy score    0.708\n",
            "| epoch  10 |  5000/ 6394 batches | accuracy score    0.703\n",
            "| epoch  10 |  6000/ 6394 batches | accuracy score    0.702\n",
            "-----------------------------------------------------------\n",
            "| end of epoch  10 | time: 303.44s | valid accuracy    0.420 | f1 score    0.429\n",
            "-----------------------------------------------------------\n",
            "[1.2693018901989466, 1.1069397919059434, 1.0546346986092439, 1.0146507177179145, 0.9804688905193018, 0.9499313721982695, 0.9175288663558897, 0.8876839981513133, 0.8575003875683426, 0.8261275255413476]\n"
          ]
        },
        {
          "output_type": "execute_result",
          "data": {
            "text/plain": [
              "[<matplotlib.lines.Line2D at 0x7f4909d08690>]"
            ]
          },
          "metadata": {},
          "execution_count": 16
        },
        {
          "output_type": "display_data",
          "data": {
            "text/plain": [
              "<Figure size 432x288 with 1 Axes>"
            ],
            "image/png": "[encoded data removed]"
          },
          "metadata": {
            "needs_background": "light"
          }
        }
      ]
    },
    {
      "cell_type": "code",
      "source": [
        "combined = [loss_value, loss_value_lstm]\n",
        "combined_epoches = [epoches, epoches]\n",
        "print(combined)\n",
        "fig, ax = plt.subplots()\n",
        "ax.plot(epoches, loss_value_lstm, color = 'green', label = \"BLSTM\")\n",
        "ax.plot(epoches, loss_value, color = 'red', label = \"Baseline\")\n",
        "plt.title('Loss Graph')\n",
        "ax.legend(loc = 'upper right')\n",
        "plt.xlabel('Epoch')\n",
        "plt.ylabel('Loss')\n",
        "plt.show()"
      ],
      "metadata": {
        "colab": {
          "base_uri": "https://localhost:8080/",
          "height": 333
        },
        "id": "JwbLTf8UC3iO",
        "outputId": "f25ce2b5-85a7-4a0e-ebce-ac9a8e82d799"
      },
      "execution_count": 17,
      "outputs": [
        {
          "output_type": "stream",
          "name": "stdout",
          "text": [
            "[[1.3593056065834124, 1.1951254293774678, 1.1372049599280012, 1.0938186407051946, 1.0561111118035051, 1.02499746032756, 0.9890739785290003, 0.9488797906435464, 0.9188807864449418, 0.8759558535820997], [1.2693018901989466, 1.1069397919059434, 1.0546346986092439, 1.0146507177179145, 0.9804688905193018, 0.9499313721982695, 0.9175288663558897, 0.8876839981513133, 0.8575003875683426, 0.8261275255413476]]\n"
          ]
        },
        {
          "output_type": "display_data",
          "data": {
            "text/plain": [
              "<Figure size 432x288 with 1 Axes>"
            ],
            "image/png": "[encoded data removed]"
          },
          "metadata": {
            "needs_background": "light"
          }
        }
      ]
    },
    {
      "cell_type": "code",
      "source": [
        "torch.save(model1, \"/content/drive/MyDrive/Final Project/BaseModel\")\n",
        "torch.save(model, \"/content/drive/MyDrive/Final Project/NewModel\")\n",
        "\n",
        "torch.save(vocab_text, \"/content/drive/MyDrive/Final Project/Dict\")"
      ],
      "metadata": {
        "id": "Iomxd4ZQ1SLt"
      },
      "execution_count": 18,
      "outputs": []
    }
  ],
  "metadata": {
    "colab": {
      "name": "Final Project",
      "toc_visible": true,
      "provenance": []
    },
    "kernelspec": {
      "display_name": "Python 3",
      "name": "python3"
    },
    "language_info": {
      "name": "python"
    },
    "accelerator": "GPU"
  },
  "nbformat": 4,
  "nbformat_minor": 0
}